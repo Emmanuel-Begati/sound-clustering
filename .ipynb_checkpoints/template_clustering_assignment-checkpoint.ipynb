{
 "cells": [
  {
   "cell_type": "markdown",
   "id": "4e889a80",
   "metadata": {},
   "source": [
    "# Clustering Unlabeled Sound Data\n",
    "\n",
    "## Assignment\n",
    "\n",
    "Complete the tasks in the notebook and document your observations in the markdown cells."
   ]
  },
  {
   "cell_type": "code",
   "execution_count": 3,
   "id": "c9ba0bdd",
   "metadata": {},
   "outputs": [
    {
     "name": "stdout",
     "output_type": "stream",
     "text": [
      "Collecting librosa\n",
      "  Downloading librosa-0.10.2.post1-py3-none-any.whl.metadata (8.6 kB)\n",
      "Collecting audioread>=2.1.9 (from librosa)\n",
      "  Downloading audioread-3.0.1-py3-none-any.whl.metadata (8.4 kB)\n",
      "Requirement already satisfied: numpy!=1.22.0,!=1.22.1,!=1.22.2,>=1.20.3 in /home/begati/anaconda3/lib/python3.12/site-packages (from librosa) (1.26.4)\n",
      "Requirement already satisfied: scipy>=1.2.0 in /home/begati/anaconda3/lib/python3.12/site-packages (from librosa) (1.13.1)\n",
      "Requirement already satisfied: scikit-learn>=0.20.0 in /home/begati/anaconda3/lib/python3.12/site-packages (from librosa) (1.6.1)\n",
      "Requirement already satisfied: joblib>=0.14 in /home/begati/anaconda3/lib/python3.12/site-packages (from librosa) (1.4.2)\n",
      "Requirement already satisfied: decorator>=4.3.0 in /home/begati/anaconda3/lib/python3.12/site-packages (from librosa) (5.1.1)\n",
      "Requirement already satisfied: numba>=0.51.0 in /home/begati/anaconda3/lib/python3.12/site-packages (from librosa) (0.61.0)\n",
      "Collecting soundfile>=0.12.1 (from librosa)\n",
      "  Downloading soundfile-0.13.1-py2.py3-none-manylinux_2_28_x86_64.whl.metadata (16 kB)\n",
      "Collecting pooch>=1.1 (from librosa)\n",
      "  Downloading pooch-1.8.2-py3-none-any.whl.metadata (10 kB)\n",
      "Collecting soxr>=0.3.2 (from librosa)\n",
      "  Downloading soxr-0.5.0.post1-cp312-abi3-manylinux_2_17_x86_64.manylinux2014_x86_64.whl.metadata (5.6 kB)\n",
      "Requirement already satisfied: typing-extensions>=4.1.1 in /home/begati/anaconda3/lib/python3.12/site-packages (from librosa) (4.12.2)\n",
      "Requirement already satisfied: lazy-loader>=0.1 in /home/begati/anaconda3/lib/python3.12/site-packages (from librosa) (0.4)\n",
      "Requirement already satisfied: msgpack>=1.0 in /home/begati/anaconda3/lib/python3.12/site-packages (from librosa) (1.0.3)\n",
      "Requirement already satisfied: packaging in /home/begati/anaconda3/lib/python3.12/site-packages (from lazy-loader>=0.1->librosa) (24.2)\n",
      "Requirement already satisfied: llvmlite<0.45,>=0.44.0dev0 in /home/begati/anaconda3/lib/python3.12/site-packages (from numba>=0.51.0->librosa) (0.44.0)\n",
      "Requirement already satisfied: platformdirs>=2.5.0 in /home/begati/anaconda3/lib/python3.12/site-packages (from pooch>=1.1->librosa) (3.10.0)\n",
      "Requirement already satisfied: requests>=2.19.0 in /home/begati/anaconda3/lib/python3.12/site-packages (from pooch>=1.1->librosa) (2.32.3)\n",
      "Requirement already satisfied: threadpoolctl>=3.1.0 in /home/begati/anaconda3/lib/python3.12/site-packages (from scikit-learn>=0.20.0->librosa) (3.5.0)\n",
      "Requirement already satisfied: cffi>=1.0 in /home/begati/anaconda3/lib/python3.12/site-packages (from soundfile>=0.12.1->librosa) (1.17.1)\n",
      "Requirement already satisfied: pycparser in /home/begati/anaconda3/lib/python3.12/site-packages (from cffi>=1.0->soundfile>=0.12.1->librosa) (2.21)\n",
      "Requirement already satisfied: charset-normalizer<4,>=2 in /home/begati/anaconda3/lib/python3.12/site-packages (from requests>=2.19.0->pooch>=1.1->librosa) (3.3.2)\n",
      "Requirement already satisfied: idna<4,>=2.5 in /home/begati/anaconda3/lib/python3.12/site-packages (from requests>=2.19.0->pooch>=1.1->librosa) (3.7)\n",
      "Requirement already satisfied: urllib3<3,>=1.21.1 in /home/begati/anaconda3/lib/python3.12/site-packages (from requests>=2.19.0->pooch>=1.1->librosa) (2.3.0)\n",
      "Requirement already satisfied: certifi>=2017.4.17 in /home/begati/anaconda3/lib/python3.12/site-packages (from requests>=2.19.0->pooch>=1.1->librosa) (2025.1.31)\n",
      "Downloading librosa-0.10.2.post1-py3-none-any.whl (260 kB)\n",
      "Downloading audioread-3.0.1-py3-none-any.whl (23 kB)\n",
      "Downloading pooch-1.8.2-py3-none-any.whl (64 kB)\n",
      "Downloading soundfile-0.13.1-py2.py3-none-manylinux_2_28_x86_64.whl (1.3 MB)\n",
      "\u001b[2K   \u001b[90m━━━━━━━━━━━━━━━━━━━━━━━━━━━━━━━━━━━━━━━━\u001b[0m \u001b[32m1.3/1.3 MB\u001b[0m \u001b[31m155.8 kB/s\u001b[0m eta \u001b[36m0:00:00\u001b[0ma \u001b[36m0:00:02\u001b[0m\n",
      "Downloading soxr-0.5.0.post1-cp312-abi3-manylinux_2_17_x86_64.manylinux2014_x86_64.whl (248 kB)\n",
      "Installing collected packages: soxr, audioread, soundfile, pooch, librosa\n",
      "Successfully installed audioread-3.0.1 librosa-0.10.2.post1 pooch-1.8.2 soundfile-0.13.1 soxr-0.5.0.post1\n"
     ]
    }
   ],
   "source": [
    "\n",
    "#Make allNecessary Imports\n",
    "# !pip install librosa  -----run this line if you dont have librosa installed\n",
    "import matplotlib.pyplot as plt\n",
    "import numpy as np\n",
    "import pandas as pd\n",
    "import seaborn as sns\n",
    "from sklearn.cluster import KMeans\n",
    "from sklearn.metrics import davies_bouldin_score, silhouette_score\n",
    "from sklearn.manifold import TSNE\n",
    "from sklearn.decomposition import PCA\n",
    "from sklearn.cluster import DBSCAN\n",
    "import librosa\n",
    "import glob\n",
    "import os\n",
    "\n"
   ]
  },
  {
   "cell_type": "code",
   "execution_count": 5,
   "id": "5ac5f575",
   "metadata": {},
   "outputs": [
    {
     "ename": "NameError",
     "evalue": "name 'os' is not defined",
     "output_type": "error",
     "traceback": [
      "\u001b[0;31m---------------------------------------------------------------------------\u001b[0m",
      "\u001b[0;31mNameError\u001b[0m                                 Traceback (most recent call last)",
      "Cell \u001b[0;32mIn[5], line 8\u001b[0m\n\u001b[1;32m      5\u001b[0m \u001b[38;5;66;03m# Path to the unlabelled sounds\u001b[39;00m\n\u001b[1;32m      6\u001b[0m data_path \u001b[38;5;241m=\u001b[39m \u001b[38;5;124m'\u001b[39m\u001b[38;5;124munlabelled_sounds/unlabelled_sounds/\u001b[39m\u001b[38;5;124m'\u001b[39m\n\u001b[0;32m----> 8\u001b[0m audio_files \u001b[38;5;241m=\u001b[39m glob\u001b[38;5;241m.\u001b[39mglob(os\u001b[38;5;241m.\u001b[39mpath\u001b[38;5;241m.\u001b[39mjoin(data_path, \u001b[38;5;124m\"\u001b[39m\u001b[38;5;124m*.wav\u001b[39m\u001b[38;5;124m\"\u001b[39m))\n\u001b[1;32m      9\u001b[0m X \u001b[38;5;241m=\u001b[39m []\n\u001b[1;32m     10\u001b[0m Y \u001b[38;5;241m=\u001b[39m []\n",
      "\u001b[0;31mNameError\u001b[0m: name 'os' is not defined"
     ]
    }
   ],
   "source": [
    "# Define a function to get the label from the file name\n",
    "def get_label(file):\n",
    "    return file.split(\".\")[0].split(\"/\")[-1]\n",
    "\n",
    "# Path to the unlabelled sounds\n",
    "data_path = 'unlabelled_sounds/unlabelled_sounds/'\n",
    "\n",
    "audio_files = glob.glob(os.path.join(data_path, \"*.wav\"))\n",
    "X = []\n",
    "Y = []\n",
    "n_mfcc = 13\n",
    "n_chroma = 13\n",
    "\n",
    "# Function to extract features from an audio file\n",
    "def extract_features(file_path, sr=22050, n_mfcc=13, n_chroma=13):\n",
    "    try:\n",
    "        y, sr = librosa.load(file_path, sr=sr)\n",
    "        mfccs = librosa.feature.mfcc(y=y, sr=sr, n_mfcc=n_mfcc)\n",
    "        spectral_contrast = librosa.feature.spectral_contrast(y=y, sr=sr)\n",
    "        chroma_stft = librosa.feature.chroma_stft(y=y, sr=sr, n_chroma=n_chroma)\n",
    "        \n",
    "        # Aggregate features (mean and standard deviation)\n",
    "        features = np.hstack([\n",
    "            np.mean(mfccs, axis=1), np.std(mfccs, axis=1),\n",
    "            np.mean(spectral_contrast, axis=1), np.std(spectral_contrast, axis=1),\n",
    "            np.mean(chroma_stft, axis=1), np.std(chroma_stft, axis=1)\n",
    "        ])\n",
    "        return features\n",
    "    except Exception as e:\n",
    "        print(f\"Error processing {file_path}: {e}\")\n",
    "        return None\n",
    "\n",
    "# Process all files in the directory\n",
    "for file in audio_files:\n",
    "    features = extract_features(file)\n",
    "    if features is not None:\n",
    "        X.append(features)\n",
    "        Y.append(get_label(file))\n",
    "\n",
    "# Convert X and Y to numpy arrays\n",
    "X = np.array(X)\n",
    "Y = np.array(Y)\n",
    "\n",
    "# Convert to a DataFrame\n",
    "feature_df = pd.DataFrame(X)\n",
    "feature_df.insert(0, 'label', Y)\n",
    "\n",
    "# Save features to a CSV file\n",
    "feature_df.to_csv('sound_features.csv', index=False)\n",
    "\n",
    "print(\"Feature extraction completed. Saved to sound_features.csv.\")"
   ]
  },
  {
   "cell_type": "code",
   "execution_count": null,
   "id": "31d6cb09",
   "metadata": {},
   "outputs": [],
   "source": [
    "\n",
    "# Scatter plot (Attempt without dimensionality reduction)\n",
    "plt.figure(figsize=(8,6))\n",
    "plt.scatter()\n",
    "plt.xlabel(\"Feature 1\")\n",
    "plt.ylabel(\"Feature 2\")\n",
    "plt.title(\"Scatter Plot of Raw Features (Without Dimensionality Reduction)\")\n",
    "plt.show()\n",
    "\n",
    "# Pair plot (Only using first 5 features)\n",
    "df = None\n",
    "sns.pairplot(None)\n",
    "plt.show()\n"
   ]
  },
  {
   "cell_type": "markdown",
   "id": "deab977c",
   "metadata": {},
   "source": [
    "### Why is dimensionality reduction important?\n",
    "(*Document any challenges/errors from the above experiments.*)"
   ]
  },
  {
   "cell_type": "code",
   "execution_count": null,
   "id": "47306cc9",
   "metadata": {},
   "outputs": [],
   "source": [
    "\n",
    "# Apply PCA (3 components)\n",
    "pca = None\n",
    "features_pca = None\n",
    "\n",
    "# Apply t-SNE (3 components)\n",
    "tsne = None\n",
    "features_tsne = None\n",
    "\n",
    "# 3D Visualization goes here\n",
    "\n"
   ]
  },
  {
   "cell_type": "markdown",
   "id": "e1a9a0cd",
   "metadata": {},
   "source": [
    "### Which method (PCA or t-SNE) provides better separability of clusters and why?\n",
    "(*Write based on your visualizations.*)"
   ]
  },
  {
   "cell_type": "code",
   "execution_count": null,
   "id": "5e2e7a1e",
   "metadata": {},
   "outputs": [],
   "source": [
    "\n",
    "# Optimize number of clusters using Elbow Method\n",
    "\n",
    "kmeans = KMeans(None)\n",
    "    \n"
   ]
  },
  {
   "cell_type": "code",
   "execution_count": null,
   "id": "4890d133",
   "metadata": {},
   "outputs": [],
   "source": [
    "\n",
    "# Select optimal K based on elbow method (e.g., k=3)\n",
    "optimal_k = None\n",
    "kmeans = KMeans(n_clusters=optimal_k, random_state=42)\n",
    "kmeans_labels = kmeans.fit_predict(features_array)\n",
    "\n",
    "# Apply DBSCAN\n",
    "dbscan = DBSCAN(eps=5, min_samples=3)\n",
    "dbscan_labels = dbscan.fit_predict(features_array)\n",
    "\n",
    "# Scatter Plot for K-Means Clusters\n",
    "\n",
    "\n",
    "# Scatter Plot for DBSCAN Clusters\n",
    "\n"
   ]
  },
  {
   "cell_type": "code",
   "execution_count": null,
   "id": "19e00b88",
   "metadata": {},
   "outputs": [],
   "source": [
    "\n",
    "# Evaluate clustering\n",
    "kmeans_silhouette = silhouette_score(features_array, kmeans_labels)\n",
    "kmeans_db_index = davies_bouldin_score(features_array, kmeans_labels)\n",
    "\n",
    "if len(set(dbscan_labels)) > 1:\n",
    "    dbscan_silhouette = silhouette_score(features_array, dbscan_labels)\n",
    "    dbscan_db_index = davies_bouldin_score(features_array, dbscan_labels)\n",
    "else:\n",
    "    dbscan_silhouette = None\n",
    "    dbscan_db_index = None\n",
    "\n",
    "print(f\"K-Means - Silhouette Score: {kmeans_silhouette:.4f}, Davies-Bouldin Index: {kmeans_db_index:.4f}\")\n",
    "if dbscan_silhouette is not None:\n",
    "    print(f\"DBSCAN - Silhouette Score: {dbscan_silhouette:.4f}, Davies-Bouldin Index: {dbscan_db_index:.4f}\")\n",
    "else:\n",
    "    print(\"DBSCAN failed to form meaningful clusters.\")\n"
   ]
  },
  {
   "cell_type": "markdown",
   "id": "fe8a8be5",
   "metadata": {},
   "source": [
    "### Discuss the results (max 5 lines)\n",
    "(*Compare K-Means and DBSCAN performance based on the outputs.*)"
   ]
  },
  {
   "cell_type": "code",
   "execution_count": null,
   "id": "e6736d9d",
   "metadata": {},
   "outputs": [],
   "source": [
    "\n",
    "# Final visualization using t-SNE\n",
    "plt.figure(figsize=(8, 5))\n",
    "plt.scatter(features_tsne[:, 0], features_tsne[:, 1], c=kmeans_labels, cmap='viridis', alpha=0.7)\n",
    "plt.xlabel(\"t-SNE Component 1\")\n",
    "plt.ylabel(\"t-SNE Component 2\")\n",
    "plt.title(\"Final Clusters (t-SNE Visualization with K-Means Labels)\")\n",
    "plt.show()\n"
   ]
  },
  {
   "cell_type": "markdown",
   "id": "569422b4",
   "metadata": {},
   "source": [
    "### Final Analysis\n",
    "- Explain why dimensionality reduction helped (or didn't) in clustering.\n",
    "- Justify why certain clustering methods worked better.\n",
    "- Relate findings to real-world clustering challenges."
   ]
  }
 ],
 "metadata": {
  "kernelspec": {
   "display_name": "Python [conda env:base] *",
   "language": "python",
   "name": "conda-base-py"
  },
  "language_info": {
   "codemirror_mode": {
    "name": "ipython",
    "version": 3
   },
   "file_extension": ".py",
   "mimetype": "text/x-python",
   "name": "python",
   "nbconvert_exporter": "python",
   "pygments_lexer": "ipython3",
   "version": "3.12.7"
  }
 },
 "nbformat": 4,
 "nbformat_minor": 5
}
